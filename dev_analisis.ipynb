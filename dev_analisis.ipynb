{
 "cells": [
  {
   "cell_type": "markdown",
   "metadata": {},
   "source": [
    "# Análisis de sentimiento"
   ]
  },
  {
   "cell_type": "code",
   "execution_count": null,
   "metadata": {},
   "outputs": [
    {
     "name": "stdout",
     "output_type": "stream",
     "text": [
      "Device: 0\n"
     ]
    },
    {
     "data": {
      "text/html": [
       "<div>\n",
       "<style scoped>\n",
       "    .dataframe tbody tr th:only-of-type {\n",
       "        vertical-align: middle;\n",
       "    }\n",
       "\n",
       "    .dataframe tbody tr th {\n",
       "        vertical-align: top;\n",
       "    }\n",
       "\n",
       "    .dataframe thead th {\n",
       "        text-align: right;\n",
       "    }\n",
       "</style>\n",
       "<table border=\"1\" class=\"dataframe\">\n",
       "  <thead>\n",
       "    <tr style=\"text-align: right;\">\n",
       "      <th></th>\n",
       "      <th>tweet_id</th>\n",
       "      <th>username</th>\n",
       "      <th>user_id</th>\n",
       "      <th>text</th>\n",
       "      <th>created_at</th>\n",
       "      <th>retweet_count</th>\n",
       "      <th>favorite_count</th>\n",
       "      <th>sentimiento</th>\n",
       "    </tr>\n",
       "  </thead>\n",
       "  <tbody>\n",
       "    <tr>\n",
       "      <th>0</th>\n",
       "      <td>1884428552025629003</td>\n",
       "      <td>Oromartv</td>\n",
       "      <td>250236331</td>\n",
       "      <td>🔵 Noticias Oromar | Una encuesta realizada por...</td>\n",
       "      <td>Wed Jan 29 02:29:12 +0000 2025</td>\n",
       "      <td>0</td>\n",
       "      <td>0</td>\n",
       "      <td>negativo</td>\n",
       "    </tr>\n",
       "    <tr>\n",
       "      <th>1</th>\n",
       "      <td>1884428461529522588</td>\n",
       "      <td>Es Noticia</td>\n",
       "      <td>1597703412069666818</td>\n",
       "      <td>María Corina Machado agradeció al presidente D...</td>\n",
       "      <td>Wed Jan 29 02:28:50 +0000 2025</td>\n",
       "      <td>0</td>\n",
       "      <td>0</td>\n",
       "      <td>positivo</td>\n",
       "    </tr>\n",
       "    <tr>\n",
       "      <th>2</th>\n",
       "      <td>1884428408890782054</td>\n",
       "      <td>Norah Parker</td>\n",
       "      <td>1591913075317374976</td>\n",
       "      <td>@JorgeGestoso De donde saca eso?? Todas las en...</td>\n",
       "      <td>Wed Jan 29 02:28:38 +0000 2025</td>\n",
       "      <td>0</td>\n",
       "      <td>0</td>\n",
       "      <td>negativo</td>\n",
       "    </tr>\n",
       "    <tr>\n",
       "      <th>3</th>\n",
       "      <td>1884427591097913541</td>\n",
       "      <td>juan pablo labrador</td>\n",
       "      <td>1148925841</td>\n",
       "      <td>Los mejores presidentes del Planeta The best p...</td>\n",
       "      <td>Wed Jan 29 02:25:23 +0000 2025</td>\n",
       "      <td>0</td>\n",
       "      <td>0</td>\n",
       "      <td>positivo</td>\n",
       "    </tr>\n",
       "    <tr>\n",
       "      <th>4</th>\n",
       "      <td>1884427448852299947</td>\n",
       "      <td>Milenium Tvi</td>\n",
       "      <td>1242191856601042945</td>\n",
       "      <td>El Gobiero del Presidente Daniel Noboa oficial...</td>\n",
       "      <td>Wed Jan 29 02:24:49 +0000 2025</td>\n",
       "      <td>0</td>\n",
       "      <td>0</td>\n",
       "      <td>positivo</td>\n",
       "    </tr>\n",
       "  </tbody>\n",
       "</table>\n",
       "</div>"
      ],
      "text/plain": [
       "              tweet_id             username              user_id  \\\n",
       "0  1884428552025629003             Oromartv            250236331   \n",
       "1  1884428461529522588           Es Noticia  1597703412069666818   \n",
       "2  1884428408890782054         Norah Parker  1591913075317374976   \n",
       "3  1884427591097913541  juan pablo labrador           1148925841   \n",
       "4  1884427448852299947         Milenium Tvi  1242191856601042945   \n",
       "\n",
       "                                                text  \\\n",
       "0  🔵 Noticias Oromar | Una encuesta realizada por...   \n",
       "1  María Corina Machado agradeció al presidente D...   \n",
       "2  @JorgeGestoso De donde saca eso?? Todas las en...   \n",
       "3  Los mejores presidentes del Planeta The best p...   \n",
       "4  El Gobiero del Presidente Daniel Noboa oficial...   \n",
       "\n",
       "                       created_at  retweet_count  favorite_count sentimiento  \n",
       "0  Wed Jan 29 02:29:12 +0000 2025              0               0    negativo  \n",
       "1  Wed Jan 29 02:28:50 +0000 2025              0               0    positivo  \n",
       "2  Wed Jan 29 02:28:38 +0000 2025              0               0    negativo  \n",
       "3  Wed Jan 29 02:25:23 +0000 2025              0               0    positivo  \n",
       "4  Wed Jan 29 02:24:49 +0000 2025              0               0    positivo  "
      ]
     },
     "execution_count": 2,
     "metadata": {},
     "output_type": "execute_result"
    }
   ],
   "source": [
    "import pandas as pd\n",
    "from transformers import pipeline\n",
    "import torch\n",
    "import matplotlib.pyplot as plt\n",
    "\n",
    "# Cargar los datos desde el archivo CSV\n",
    "file_path = \"tweets_noboa.csv\"\n",
    "df = pd.read_csv(file_path)\n",
    "\n",
    "device = 0 if torch.cuda.is_available() else -1  # Usa la GPU si está disponible, de lo contrario usa la CPU\n",
    "\n",
    "print(f\"Device: {device}\")\n",
    "\n",
    "modelo_sentimiento = pipeline(\"sentiment-analysis\", model=\"nlptown/bert-base-multilingual-uncased-sentiment\", device=device)\n",
    "\n",
    "def analizar_sentimiento_avanzado(texto):\n",
    "    try:\n",
    "        resultado = modelo_sentimiento(texto[:512])  # Limitar el texto a 512 caracteres si es necesario\n",
    "        etiqueta = int(resultado[0]['label'].lower().split()[0])\n",
    "        if etiqueta > 3:\n",
    "            return \"positivo\"\n",
    "        elif etiqueta < 3:\n",
    "            return \"negativo\"\n",
    "        elif etiqueta == 3:\n",
    "            return \"neutral\"\n",
    "        else:\n",
    "            return etiqueta\n",
    "    except Exception as e:\n",
    "        print(f\"Error al procesar el texto: {texto} - {e}\")\n",
    "        return \"error\"\n",
    "\n",
    "# Aplicar la función a los textos de los tweets\n",
    "df[\"sentimiento\"] = df[\"text\"].apply(analizar_sentimiento_avanzado)\n",
    "\n",
    "# Guardar el resultado con la columna de sentimientos\n",
    "df.to_csv(\"tweets_sentimiento.csv\", index=False)\n",
    "\n",
    "# Mostrar las primeras filas con el sentimiento calculado\n",
    "df.head()"
   ]
  },
  {
   "cell_type": "markdown",
   "metadata": {},
   "source": [
    "# Cálculo de popularidad"
   ]
  },
  {
   "cell_type": "code",
   "execution_count": 3,
   "metadata": {},
   "outputs": [
    {
     "name": "stdout",
     "output_type": "stream",
     "text": [
      "Análisis de Sentimientos:\n",
      "Positivos: 189, Negativos: 513, Neutrales: 37\n",
      "Índice de Popularidad: -0.44\n"
     ]
    }
   ],
   "source": [
    "# Contar los tweets por sentimiento\n",
    "conteo_sentimientos = df[\"sentimiento\"].value_counts()\n",
    "\n",
    "positivos = conteo_sentimientos.get(\"positivo\", 0)\n",
    "negativos = conteo_sentimientos.get(\"negativo\", 0)\n",
    "neutrales = conteo_sentimientos.get(\"neutral\", 0)\n",
    "\n",
    "# Cálculo del índice de popularidad\n",
    "total = positivos + negativos + neutrales\n",
    "popularidad = (positivos - negativos) / total if total > 0 else 0\n",
    "\n",
    "print(\"Análisis de Sentimientos:\")\n",
    "print(f\"Positivos: {positivos}, Negativos: {negativos}, Neutrales: {neutrales}\")\n",
    "print(f\"Índice de Popularidad: {popularidad:.2f}\")"
   ]
  },
  {
   "cell_type": "markdown",
   "metadata": {},
   "source": [
    "# Visualizaciones"
   ]
  },
  {
   "cell_type": "code",
   "execution_count": 6,
   "metadata": {},
   "outputs": [
    {
     "data": {
      "image/png": "[encoded data removed]",
      "text/plain": [
       "<Figure size 800x600 with 1 Axes>"
      ]
     },
     "metadata": {},
     "output_type": "display_data"
    }
   ],
   "source": [
    "# Crear una gráfica de barras para visualizar los resultados\n",
    "plt.figure(figsize=(8, 6))\n",
    "plt.bar([\"Positivo\", \"Negativo\", \"Neutral\"], [positivos, negativos, neutrales], color=[\"green\", \"red\", \"gray\"])\n",
    "plt.xlabel(\"Sentimiento\")\n",
    "plt.ylabel(\"Cantidad de Tweets\")\n",
    "plt.title(\"Distribución de Sentimientos en Twitter sobre el Presidente de Ecuador\")\n",
    "plt.ylim(0, max(positivos, negativos, neutrales) + 5)  # Ajustar el límite del eje Y\n",
    "plt.grid(axis=\"y\", linestyle=\"--\", alpha=0.7)\n",
    "\n",
    "# Mostrar la gráfica\n",
    "plt.show()"
   ]
  }
 ],
 "metadata": {
  "kernelspec": {
   "display_name": "env_master",
   "language": "python",
   "name": "python3"
  },
  "language_info": {
   "codemirror_mode": {
    "name": "ipython",
    "version": 3
   },
   "file_extension": ".py",
   "mimetype": "text/x-python",
   "name": "python",
   "nbconvert_exporter": "python",
   "pygments_lexer": "ipython3",
   "version": "3.11.10"
  }
 },
 "nbformat": 4,
 "nbformat_minor": 2
}
